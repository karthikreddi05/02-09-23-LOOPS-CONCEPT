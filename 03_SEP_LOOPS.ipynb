{
 "cells": [
  {
   "cell_type": "code",
   "execution_count": 1,
   "id": "2fcd1ae9-f81d-4c6f-90e3-76747e4e9d11",
   "metadata": {},
   "outputs": [
    {
     "name": "stdout",
     "output_type": "stream",
     "text": [
      "1\n",
      "2\n",
      "3\n",
      "4\n",
      "5\n",
      "6\n",
      "7\n",
      "8\n",
      "9\n",
      "10\n",
      "[1, 2, 3, 4, 5, 6, 7, 8, 9, 10]\n"
     ]
    }
   ],
   "source": [
    "for num in range(1, 11):\n",
    "    print(num)\n",
    "    [1, 2, 3, 4, 5, 6, 7, 8, 9, 10]\n",
    "print(list(range(1, 11)))"
   ]
  },
  {
   "cell_type": "code",
   "execution_count": 2,
   "id": "0651d291-5e50-42b8-bdac-da427356d5e9",
   "metadata": {},
   "outputs": [
    {
     "name": "stdout",
     "output_type": "stream",
     "text": [
      "Sum of all elements in given list:  74\n"
     ]
    }
   ],
   "source": [
    "total = 0\n",
    "list1 = [11, 5, 17, 18, 23]\n",
    "for ele in range(0, len(list1)):\n",
    "\ttotal = total + list1[ele]\n",
    "print(\"Sum of all elements in given list: \", total)"
   ]
  },
  {
   "cell_type": "code",
   "execution_count": 3,
   "id": "959d5fae-db51-4437-9941-4e439e5bc71b",
   "metadata": {},
   "outputs": [
    {
     "name": "stdout",
     "output_type": "stream",
     "text": [
      "The original string is : Geeksforgeeks\n",
      "The reversed string(using loops) is : skeegrofskeeG\n"
     ]
    }
   ],
   "source": [
    "def reverse(s):\n",
    "\tstr = \"\"\n",
    "\tfor i in s:\n",
    "\t\tstr = i + str\n",
    "\treturn str\n",
    "\n",
    "s = \"Geeksforgeeks\"\n",
    "\n",
    "print(\"The original string is : \", end=\"\")\n",
    "print(s)\n",
    "\n",
    "print(\"The reversed string(using loops) is : \", end=\"\")\n",
    "print(reverse(s))\n"
   ]
  },
  {
   "cell_type": "code",
   "execution_count": 4,
   "id": "6ed38869-1b43-4d5d-944b-838c70ffbeb4",
   "metadata": {},
   "outputs": [
    {
     "name": "stdout",
     "output_type": "stream",
     "text": [
      "The factorial of 7 is 5040\n"
     ]
    }
   ],
   "source": [
    "num = 7\n",
    "factorial = 1\n",
    "if num < 0:\n",
    "   print(\"Sorry, factorial does not exist for negative numbers\")\n",
    "elif num == 0:\n",
    "   print(\"The factorial of 0 is 1\")\n",
    "else:\n",
    "   for i in range(1,num + 1):\n",
    "       factorial = factorial*i\n",
    "   print(\"The factorial of\",num,\"is\",factorial)"
   ]
  },
  {
   "cell_type": "code",
   "execution_count": 5,
   "id": "a68c5994-490b-4b98-b9f5-b459e9dc3b3d",
   "metadata": {},
   "outputs": [
    {
     "name": "stdout",
     "output_type": "stream",
     "text": [
      "12 x 1 = 12\n",
      "12 x 2 = 24\n",
      "12 x 3 = 36\n",
      "12 x 4 = 48\n",
      "12 x 5 = 60\n",
      "12 x 6 = 72\n",
      "12 x 7 = 84\n",
      "12 x 8 = 96\n",
      "12 x 9 = 108\n",
      "12 x 10 = 120\n"
     ]
    }
   ],
   "source": [
    "num = 12\n",
    "for i in range(1, 11):\n",
    "   print(num, 'x', i, '=', num*i)"
   ]
  },
  {
   "cell_type": "code",
   "execution_count": 6,
   "id": "0642cb14-f0d2-414f-9f62-23c91cf494eb",
   "metadata": {},
   "outputs": [
    {
     "name": "stdout",
     "output_type": "stream",
     "text": [
      "Even numbers in the list:  3\n",
      "Odd numbers in the list:  4\n"
     ]
    }
   ],
   "source": [
    "list1 = [10, 21, 4, 45, 66, 93, 1]\n",
    "\n",
    "even_count, odd_count = 0, 0\n",
    "for num in list1:\n",
    "\tif num % 2 == 0:\n",
    "\t\teven_count += 1\n",
    "\telse:\n",
    "\t\todd_count += 1\n",
    "print(\"Even numbers in the list: \", even_count)\n",
    "print(\"Odd numbers in the list: \", odd_count)"
   ]
  },
  {
   "cell_type": "code",
   "execution_count": 8,
   "id": "5e3a8603-4225-4807-bbe6-74c275aa00f5",
   "metadata": {},
   "outputs": [
    {
     "name": "stdout",
     "output_type": "stream",
     "text": [
      "55\n"
     ]
    }
   ],
   "source": [
    "def squaresum(n):\n",
    "\tsm = 0\n",
    "\tfor i in range(1, n+1):\n",
    "\t\tsm = sm + (i * i)\n",
    "\treturn sm\n",
    "n = 5\n",
    "print(squaresum(n))"
   ]
  },
  {
   "cell_type": "code",
   "execution_count": 10,
   "id": "c743490f-4f7e-45d0-b66d-ad9103582091",
   "metadata": {},
   "outputs": [
    {
     "name": "stdout",
     "output_type": "stream",
     "text": [
      "8\n"
     ]
    }
   ],
   "source": [
    "def findLength(string):\n",
    "\tcount = 0\n",
    "\tfor i in string:\n",
    "\t\tcount += 1\n",
    "\treturn count\n",
    "string = \"Pwskills\"\n",
    "print(findLength(string))"
   ]
  },
  {
   "cell_type": "code",
   "execution_count": 11,
   "id": "db056043-83c1-4e8a-8406-ff6c5da20c63",
   "metadata": {},
   "outputs": [
    {
     "name": "stdout",
     "output_type": "stream",
     "text": [
      "Average of the list = 35.75\n"
     ]
    }
   ],
   "source": [
    "def Average(lst):\n",
    "\treturn sum(lst) / len(lst)\n",
    "lst = [15, 9, 55, 41, 35, 20, 62, 49]\n",
    "average = Average(lst)\n",
    "print(\"Average of the list =\", round(average, 2))"
   ]
  },
  {
   "cell_type": "code",
   "execution_count": 13,
   "id": "9fd569f2-dbc1-475e-bd87-69e05ce7fd8c",
   "metadata": {},
   "outputs": [
    {
     "name": "stdin",
     "output_type": "stream",
     "text": [
      "How many terms?  5\n"
     ]
    },
    {
     "name": "stdout",
     "output_type": "stream",
     "text": [
      "Fibonacci sequence:\n",
      "0\n",
      "1\n",
      "1\n",
      "2\n",
      "3\n"
     ]
    }
   ],
   "source": [
    "nterms = int(input(\"How many terms? \"))\n",
    "n1, n2 = 0, 1\n",
    "count = 0\n",
    "if nterms <= 0:\n",
    "   print(\"Please enter a positive integer\")\n",
    "elif nterms == 1:\n",
    "   print(\"Fibonacci sequence upto\",nterms,\":\")\n",
    "   print(n1)\n",
    "else:\n",
    "   print(\"Fibonacci sequence:\")\n",
    "   while count < nterms:\n",
    "       print(n1)\n",
    "       nth = n1 + n2\n",
    "       n1 = n2\n",
    "       n2 = nth\n",
    "       count += 1"
   ]
  },
  {
   "cell_type": "code",
   "execution_count": 1,
   "id": "225c47c4-c3aa-436e-86c4-7d9836cf0615",
   "metadata": {},
   "outputs": [
    {
     "name": "stdout",
     "output_type": "stream",
     "text": [
      "[20, 30, -20, 60]\n"
     ]
    }
   ],
   "source": [
    "def Repeat(x):\n",
    "\t_size = len(x)\n",
    "\trepeated = []\n",
    "\tfor i in range(_size):\n",
    "\t\tk = i + 1\n",
    "\t\tfor j in range(k, _size):\n",
    "\t\t\tif x[i] == x[j] and x[i] not in repeated:\n",
    "\t\t\t\trepeated.append(x[i])\n",
    "\treturn repeated\n",
    "list1 = [10, 20, 30, 20, 20, 30, 40,\n",
    "\t\t50, -20, 60, 60, -20, -20]\n",
    "print (Repeat(list1))"
   ]
  },
  {
   "cell_type": "code",
   "execution_count": 3,
   "id": "6ec98347-b946-4d1a-afa3-dca2d5cffab3",
   "metadata": {},
   "outputs": [
    {
     "name": "stdout",
     "output_type": "stream",
     "text": [
      "Prime numbers between 0 and 5 are:\n",
      "2\n",
      "3\n",
      "5\n"
     ]
    }
   ],
   "source": [
    "lower = 0\n",
    "upper = 5\n",
    "\n",
    "print(\"Prime numbers between\", lower, \"and\", upper, \"are:\")\n",
    "\n",
    "for num in range(lower, upper + 1):\n",
    "   if num > 1:\n",
    "       for i in range(2, num):\n",
    "           if (num % i) == 0:\n",
    "               break\n",
    "       else:\n",
    "           print(num)"
   ]
  },
  {
   "cell_type": "code",
   "execution_count": 4,
   "id": "469b7f34-80c6-4dfd-b5be-8c9a32af5b87",
   "metadata": {},
   "outputs": [
    {
     "name": "stdout",
     "output_type": "stream",
     "text": [
      "1\n"
     ]
    }
   ],
   "source": [
    "string = \"Pwskills!\"\n",
    "vowels = \"aeiouAEIOU\"\n",
    "\n",
    "count = sum(string.count(vowel) for vowel in vowels)\n",
    "print(count)\n"
   ]
  },
  {
   "cell_type": "code",
   "execution_count": 5,
   "id": "9177a79b-de9b-4d5e-8652-8ba98bb89664",
   "metadata": {},
   "outputs": [
    {
     "name": "stdout",
     "output_type": "stream",
     "text": [
      "504\n"
     ]
    }
   ],
   "source": [
    "def prod(lis):\n",
    "\tmaxi = 0\n",
    "\tfor x in lis:\n",
    "\t\tp = 1\n",
    "\t\tfor i in x:\n",
    "\t\t\tp *= i\n",
    "\t\t\tmaxi = max(p, maxi)\n",
    "\treturn maxi\n",
    "l = [[1, 2, 3], [4, 5, 6], [7, 8, 9]]\n",
    "print(prod(l))"
   ]
  },
  {
   "cell_type": "code",
   "execution_count": 6,
   "id": "d43b0bd3-c5f1-4edf-8625-b5a8178700d8",
   "metadata": {},
   "outputs": [
    {
     "name": "stdout",
     "output_type": "stream",
     "text": [
      "The original list is : [1, 3, 4, 6, 5, 1]\n",
      "The list after performing the remove operation is : [3, 4, 6, 5]\n"
     ]
    }
   ],
   "source": [
    "def remove_items(test_list, item):\n",
    "\tres = [i for i in test_list if i != item]\n",
    "\treturn res\n",
    "if __name__ == \"__main__\":\n",
    "\ttest_list = [1, 3, 4, 6, 5, 1]\n",
    "\titem = 1\n",
    "\tprint(\"The original list is : \" + str(test_list))\n",
    "\tres = remove_items(test_list, item)\n",
    "\tprint(\"The list after performing the remove operation is : \" + str(res))"
   ]
  },
  {
   "cell_type": "code",
   "execution_count": 8,
   "id": "06be37c1-e72f-49cd-95bc-318484e66444",
   "metadata": {},
   "outputs": [
    {
     "name": "stdout",
     "output_type": "stream",
     "text": [
      "5 x 1 = 5\n",
      "5 x 2 = 10\n",
      "5 x 3 = 15\n",
      "5 x 4 = 20\n",
      "5 x 5 = 25\n",
      "5 x 6 = 30\n",
      "5 x 7 = 35\n",
      "5 x 8 = 40\n",
      "5 x 9 = 45\n",
      "5 x 10 = 50\n"
     ]
    }
   ],
   "source": [
    "num = 5\n",
    "for i in range(1, 11):\n",
    "   print(num, 'x', i, '=', num*i)"
   ]
  },
  {
   "cell_type": "code",
   "execution_count": 9,
   "id": "c942558f-d1d7-4ae8-a19b-09950865d55a",
   "metadata": {},
   "outputs": [
    {
     "name": "stdout",
     "output_type": "stream",
     "text": [
      "37.5 degree Celsius is equal to 99.5 degree Fahrenheit\n"
     ]
    }
   ],
   "source": [
    "celsius = 37.5\n",
    "fahrenheit = (celsius * 1.8) + 32\n",
    "print('%0.1f degree Celsius is equal to %0.1f degree Fahrenheit' %(celsius,fahrenheit))"
   ]
  },
  {
   "cell_type": "code",
   "execution_count": 10,
   "id": "f06190ef-20e0-4a21-acdf-ac47fb0bb1a9",
   "metadata": {},
   "outputs": [
    {
     "name": "stdout",
     "output_type": "stream",
     "text": [
      "{5}\n",
      "No common elements\n"
     ]
    }
   ],
   "source": [
    "def common_member(a, b):\n",
    "\ta_set = set(a)\n",
    "\tb_set = set(b)\n",
    "\tif (a_set & b_set):\n",
    "\t\tprint(a_set & b_set)\n",
    "\telse:\n",
    "\t\tprint(\"No common elements\")\n",
    "a = [1, 2, 3, 4, 5]\n",
    "b = [5, 6, 7, 8, 9]\n",
    "common_member(a, b)\n",
    "\n",
    "a = [1, 2, 3, 4, 5]\n",
    "b = [6, 7, 8, 9]\n",
    "common_member(a, b)"
   ]
  },
  {
   "cell_type": "code",
   "execution_count": 11,
   "id": "742709ba-f2ad-4d52-8c7c-4560301b350b",
   "metadata": {},
   "outputs": [
    {
     "name": "stdin",
     "output_type": "stream",
     "text": [
      "Please Enter the Total Number of Rows  :  5\n",
      "Please Enter any Character  :  5\n"
     ]
    },
    {
     "name": "stdout",
     "output_type": "stream",
     "text": [
      "Right Angled Triangle Star Pattern\n",
      "5  \n",
      "5  5  \n",
      "5  5  5  \n",
      "5  5  5  5  \n",
      "5  5  5  5  5  \n"
     ]
    }
   ],
   "source": [
    "rows = int(input(\"Please Enter the Total Number of Rows  : \"))\n",
    "ch = input(\"Please Enter any Character  : \")\n",
    "\n",
    "print(\"Right Angled Triangle Star Pattern\") \n",
    "for i in range(1, rows + 1):\n",
    "    for j in range(1, i + 1):\n",
    "        print('%c' %ch, end = '  ')\n",
    "    print()"
   ]
  },
  {
   "cell_type": "code",
   "execution_count": 12,
   "id": "83894c64-fd6d-4f67-9cea-66cfe872a5ff",
   "metadata": {},
   "outputs": [
    {
     "name": "stdout",
     "output_type": "stream",
     "text": [
      "The gcd of 60 and 48 is : 12\n"
     ]
    }
   ],
   "source": [
    "import math\n",
    "print(\"The gcd of 60 and 48 is : \", end=\"\")\n",
    "print(math.gcd(60, 48))"
   ]
  },
  {
   "cell_type": "code",
   "execution_count": 1,
   "id": "7feb203b-91ab-44eb-b990-90e73ad92812",
   "metadata": {},
   "outputs": [
    {
     "name": "stdout",
     "output_type": "stream",
     "text": [
      "The original list is : [12, 67, 98, 34]\n",
      "List Integer Summation : [3, 13, 17, 7]\n"
     ]
    }
   ],
   "source": [
    "test_list = [12, 67, 98, 34]\n",
    "print(\"The original list is : \" + str(test_list))\n",
    "res = []\n",
    "for ele in test_list:\n",
    "\tsum = 0\n",
    "\tfor digit in str(ele):\n",
    "\t\tsum += int(digit)\n",
    "\tres.append(sum)\n",
    "print (\"List Integer Summation : \" + str(res))"
   ]
  },
  {
   "cell_type": "code",
   "execution_count": 9,
   "id": "5081b55b-d793-48d1-9fe8-41d6d8d323e1",
   "metadata": {},
   "outputs": [
    {
     "name": "stdout",
     "output_type": "stream",
     "text": [
      "121\n",
      "141\n",
      "252\n",
      "\n",
      "Total palindrome nos. are 3\n",
      "\n",
      "111\n",
      "565\n",
      "787\n",
      "363\n",
      "\n",
      "Total palindrome nos. are 4\n",
      "\n"
     ]
    }
   ],
   "source": [
    "def palindromeNumbers(list_a):\n",
    "\n",
    "\tc = 0\n",
    "\tfor i in list_a:\n",
    "\t\tt = i\n",
    "\t\trev = 0\n",
    "\t\twhile t > 0:\n",
    "\t\t\trev = rev * 10 + t % 10\n",
    "\t\t\tt = t // 10\n",
    "\t\tif rev == i:\n",
    "\t\t\tprint(i)\n",
    "\t\t\tc = c + 1\n",
    "\tprint()\n",
    "\tprint(\"Total palindrome nos. are\", c)\n",
    "\tprint()\n",
    "def main():\n",
    "\n",
    "\tlist_a = [10, 121, 133, 155, 141, 252]\n",
    "\tpalindromeNumbers(list_a)\n",
    "\n",
    "\tlist_b = [111, 220, 784, 565, 498, 787, 363]\n",
    "\tpalindromeNumbers(list_b)\n",
    "if __name__ == \"__main__\":\n",
    "\tmain()\t\t"
   ]
  },
  {
   "cell_type": "code",
   "execution_count": 10,
   "id": "09d49e63-d60d-4480-aaf1-eab5e13c7e9e",
   "metadata": {},
   "outputs": [
    {
     "name": "stdout",
     "output_type": "stream",
     "text": [
      "[1, 2, 3, 4, 5, 6, 7]\n"
     ]
    }
   ],
   "source": [
    "my_list = [[1], [2, 3], [4, 5, 6, 7]]\n",
    "\n",
    "flat_list = [num for sublist in my_list for num in sublist]\n",
    "print(flat_list)"
   ]
  },
  {
   "cell_type": "code",
   "execution_count": 11,
   "id": "e40c8b3f-fd37-454a-97c2-1f097a7d5781",
   "metadata": {},
   "outputs": [
    {
     "name": "stdout",
     "output_type": "stream",
     "text": [
      "The original list is : [345, 893, 1948, 34, 2346]\n",
      "Odd digit sum : 36\n",
      "Even digit sum : 40\n"
     ]
    }
   ],
   "source": [
    "test_list = [345, 893, 1948, 34, 2346]\n",
    "print(\"The original list is : \" + str(test_list))\n",
    "odd_sum = 0\n",
    "even_sum = 0\n",
    "for sub in test_list:\n",
    "\tfor ele in str(sub):\n",
    "\t\tif int(ele) % 2 == 0:\n",
    "\t\t\teven_sum += int(ele)\n",
    "\t\telse:\n",
    "\t\t\todd_sum += int(ele)\n",
    "print(\"Odd digit sum : \" + str(odd_sum))\n",
    "print(\"Even digit sum : \" + str(even_sum))"
   ]
  },
  {
   "cell_type": "code",
   "execution_count": 12,
   "id": "1c69cfe4-bf61-4867-857e-cbb487b081bf",
   "metadata": {},
   "outputs": [
    {
     "name": "stdout",
     "output_type": "stream",
     "text": [
      "[1, 9, 25, 49]\n"
     ]
    }
   ],
   "source": [
    "data=[1,2,3,4,5,6,7]\n",
    "result = [i*i for i in data if i%2!=0]\n",
    "print(result)"
   ]
  },
  {
   "cell_type": "code",
   "execution_count": 13,
   "id": "21431dfd-6edf-4d20-8416-73083f579f3e",
   "metadata": {},
   "outputs": [
    {
     "name": "stdout",
     "output_type": "stream",
     "text": [
      "{1: 'python', 2: 'c', 3: 'c++'}\n"
     ]
    }
   ],
   "source": [
    "index = [1, 2, 3]\n",
    "languages = ['python', 'c', 'c++']\n",
    "\n",
    "dictionary = dict(zip(index, languages))\n",
    "print(dictionary)"
   ]
  },
  {
   "cell_type": "code",
   "execution_count": 14,
   "id": "86dea0ac-073d-412a-a764-4d7d9248a233",
   "metadata": {},
   "outputs": [
    {
     "name": "stdout",
     "output_type": "stream",
     "text": [
      "The original list is : ['all', 'love', 'and', 'get', 'educated', 'by', 'gfg']\n",
      "The extracted words : ['all', 'and', 'educated']\n"
     ]
    }
   ],
   "source": [
    "test_list = [\"all\", \"love\", \"and\", \"get\", \"educated\", \"by\", \"gfg\"]\n",
    "print(\"The original list is : \" + str(test_list))\n",
    "res = []\n",
    "vow = \"aeiou\"\n",
    "for sub in test_list:\n",
    "\tflag = False\n",
    "\tfor ele in vow:\n",
    "\t\tif sub.startswith(ele):\n",
    "\t\t\tflag = True\n",
    "\t\t\tbreak\n",
    "\tif flag:\n",
    "\t\tres.append(sub)\n",
    "print(\"The extracted words : \" + str(res))"
   ]
  },
  {
   "cell_type": "code",
   "execution_count": 18,
   "id": "0eabfb37-74df-4ff4-9e88-3afa7f1abfc2",
   "metadata": {},
   "outputs": [
    {
     "name": "stdout",
     "output_type": "stream",
     "text": [
      "['p', 'pwskills', 'w', 'skills']\n"
     ]
    }
   ],
   "source": [
    "import re\n",
    "\n",
    "\n",
    "def remove(list):\n",
    "\tpattern = '[0-9]'\n",
    "\tlist = [re.sub(pattern, '', i) for i in list]\n",
    "\treturn list\n",
    "\n",
    "# Driver code\n",
    "\n",
    "\n",
    "list = ['p', 'pwskills', 'w', 'skills']\n",
    "print(remove(list))"
   ]
  },
  {
   "cell_type": "code",
   "execution_count": 19,
   "id": "143ffa37-785f-4b55-9f8e-f93690472aa3",
   "metadata": {},
   "outputs": [
    {
     "name": "stdout",
     "output_type": "stream",
     "text": [
      "Following are the prime numbers smaller\n",
      "than or equal to 30\n",
      "2\n",
      "3\n",
      "5\n",
      "7\n",
      "11\n",
      "13\n",
      "17\n",
      "19\n",
      "23\n",
      "29\n"
     ]
    }
   ],
   "source": [
    "def SieveOfEratosthenes(num):\n",
    "\tprime = [True for i in range(num+1)]\n",
    "\tp = 2\n",
    "\twhile (p * p <= num):\n",
    "\t\tif (prime[p] == True):\n",
    "\t\t\tfor i in range(p * p, num+1, p):\n",
    "\t\t\t\tprime[i] = False\n",
    "\t\tp += 1\n",
    "\n",
    "\tfor p in range(2, num+1):\n",
    "\t\tif prime[p]:\n",
    "\t\t\tprint(p)\n",
    "if __name__ == '__main__':\n",
    "\tnum = 30\n",
    "\tprint(\"Following are the prime numbers smaller\"),\n",
    "\tprint(\"than or equal to\", num)\n",
    "\tSieveOfEratosthenes(num)"
   ]
  },
  {
   "cell_type": "code",
   "execution_count": 20,
   "id": "8fd12c0c-9c76-4556-8c6a-464efcd29e8c",
   "metadata": {},
   "outputs": [
    {
     "name": "stdout",
     "output_type": "stream",
     "text": [
      "3 4 5\n",
      "8 6 10\n",
      "5 12 13\n",
      "15 8 17\n",
      "12 16 20\n"
     ]
    }
   ],
   "source": [
    "def pythagoreanTriplets(limits) :\n",
    "\tc, m = 0, 2\n",
    "\twhile c < limits :\n",
    "\t\tfor n in range(1, m) :\n",
    "\t\t\ta = m * m - n * n\n",
    "\t\t\tb = 2 * m * n\n",
    "\t\t\tc = m * m + n * n\n",
    "\t\t\tif c > limits :\n",
    "\t\t\t\tbreak\n",
    "\n",
    "\t\t\tprint(a, b, c)\n",
    "\n",
    "\t\tm = m + 1\n",
    "if __name__ == '__main__' :\n",
    "\t\n",
    "\tlimit = 20\n",
    "\tpythagoreanTriplets(limit)"
   ]
  },
  {
   "cell_type": "code",
   "execution_count": 23,
   "id": "a1e6743e-6185-44b9-bbaf-ccb20010a47c",
   "metadata": {},
   "outputs": [
    {
     "name": "stdout",
     "output_type": "stream",
     "text": [
      "      1 \n",
      "     1 1 \n",
      "    1 2 1 \n",
      "   1 3 3 1 \n",
      "  1 4 6 4 1 \n"
     ]
    }
   ],
   "source": [
    "from math import factorial\n",
    "n = 5\n",
    "for i in range(n):\n",
    "\tfor j in range(n-i+1):\n",
    "\t\tprint(end=\" \")\n",
    "\tfor j in range(i+1):\n",
    "\t\tprint(factorial(i)//(factorial(j)*factorial(i-j)), end=\" \")\n",
    "\tprint()"
   ]
  },
  {
   "cell_type": "code",
   "execution_count": 24,
   "id": "f32c8ee3-9a09-441a-8c60-2b5be1e78a81",
   "metadata": {},
   "outputs": [
    {
     "name": "stdout",
     "output_type": "stream",
     "text": [
      "The original list is : [12, 67, 98, 34]\n",
      "List Integer Summation : [3, 13, 17, 7]\n"
     ]
    }
   ],
   "source": [
    "test_list = [12, 67, 98, 34]\n",
    "print(\"The original list is : \" + str(test_list))\n",
    "res = []\n",
    "for ele in test_list:\n",
    "\tsum = 0\n",
    "\tfor digit in str(ele):\n",
    "\t\tsum += int(digit)\n",
    "\tres.append(sum)\n",
    "print (\"List Integer Summation : \" + str(res))"
   ]
  },
  {
   "cell_type": "code",
   "execution_count": 25,
   "id": "bf3fba17-334e-4e05-989e-c89d00ef8681",
   "metadata": {},
   "outputs": [
    {
     "name": "stdout",
     "output_type": "stream",
     "text": [
      "The word with the longest length is: third  and length is  5\n"
     ]
    }
   ],
   "source": [
    "def longestLength(a):\n",
    "\tmax1 = len(a[0])\n",
    "\ttemp = a[0]\n",
    "\tfor i in a:\n",
    "\t\tif(len(i) > max1):\n",
    "\n",
    "\t\t\tmax1 = len(i)\n",
    "\t\t\ttemp = i\n",
    "\n",
    "\tprint(\"The word with the longest length is:\", temp,\n",
    "\t\t\" and length is \", max1)\n",
    "a = [\"one\", \"two\", \"third\", \"four\"]\n",
    "longestLength(a)"
   ]
  },
  {
   "cell_type": "code",
   "execution_count": 26,
   "id": "1dd2e7cd-4f60-44eb-a3d5-08b55bbca5c2",
   "metadata": {},
   "outputs": [
    {
     "name": "stdout",
     "output_type": "stream",
     "text": [
      "The original list is : ['gfg', 'best', 'for', 'geeks']\n",
      "Maximum vowels word : geeks\n"
     ]
    }
   ],
   "source": [
    "test_list = [\"gfg\", \"best\", \"for\", \"geeks\"]\n",
    "\n",
    "print(\"The original list is : \" + str(test_list))\n",
    "\n",
    "res = \"\"\n",
    "max_len = 0\n",
    "\n",
    "for ele in test_list:\n",
    "\tvow_len = len([el for el in ele if el in ['a', 'e', 'o', 'u', 'i']])\n",
    "\t\n",
    "\tif vow_len > max_len:\n",
    "\t\tmax_len = vow_len\n",
    "\t\tres = ele\n",
    "print(\"Maximum vowels word : \" + str(res))"
   ]
  },
  {
   "cell_type": "code",
   "execution_count": 27,
   "id": "f972c318-051d-4184-8d5b-c28640d195d2",
   "metadata": {},
   "outputs": [
    {
     "name": "stdout",
     "output_type": "stream",
     "text": [
      "The original list is : [12, 67, 98, 34]\n",
      "List Integer Summation : [3, 13, 17, 7]\n"
     ]
    }
   ],
   "source": [
    "test_list = [12, 67, 98, 34]\n",
    "print(\"The original list is : \" + str(test_list))\n",
    "res = []\n",
    "for ele in test_list:\n",
    "\tsum = 0\n",
    "\tfor digit in str(ele):\n",
    "\t\tsum += int(digit)\n",
    "\tres.append(sum)\n",
    "print (\"List Integer Summation : \" + str(res))"
   ]
  },
  {
   "cell_type": "code",
   "execution_count": 28,
   "id": "176f97e7-2e14-4986-b583-8da7daef79aa",
   "metadata": {},
   "outputs": [
    {
     "name": "stdout",
     "output_type": "stream",
     "text": [
      "121\n",
      "141\n",
      "252\n",
      "\n",
      "Total palindrome nos. are 3\n",
      "\n",
      "111\n",
      "565\n",
      "787\n",
      "363\n",
      "\n",
      "Total palindrome nos. are 4\n",
      "\n"
     ]
    }
   ],
   "source": [
    "def palindromeNumbers(list_a):\n",
    "\tc = 0\n",
    "\tfor i in list_a:\n",
    "\t\tt = i\n",
    "\t\trev = 0\n",
    "\t\twhile t > 0:\n",
    "\t\t\trev = rev * 10 + t % 10\n",
    "\t\t\tt = t // 10\n",
    "\t\tif rev == i:\n",
    "\t\t\tprint(i)\n",
    "\t\t\tc = c + 1\n",
    "\tprint()\n",
    "\tprint(\"Total palindrome nos. are\", c)\n",
    "\tprint()\n",
    "def main():\n",
    "\tlist_a = [10, 121, 133, 155, 141, 252]\n",
    "\tpalindromeNumbers(list_a)\n",
    "\tlist_b = [111, 220, 784, 565, 498, 787, 363]\n",
    "\tpalindromeNumbers(list_b)\n",
    "\n",
    "if __name__ == \"__main__\":\n",
    "\tmain()\t\t\t "
   ]
  },
  {
   "cell_type": "code",
   "execution_count": 1,
   "id": "01f7598c-12d1-4152-adf0-33227ba13dc8",
   "metadata": {},
   "outputs": [
    {
     "name": "stdout",
     "output_type": "stream",
     "text": [
      "The sum of elements in the given list is: 19\n"
     ]
    }
   ],
   "source": [
    "import operator\n",
    "lst = [0, 4, 1, 6, 8]\n",
    "sum = 0\n",
    "i = 0\n",
    "while i < len(lst):\n",
    "\tsum = sum+operator.add(0, lst[i])\n",
    "\ti = i+1\n",
    "print('The sum of elements in the given list is:', sum)"
   ]
  },
  {
   "cell_type": "code",
   "execution_count": 3,
   "id": "33300048-f6b2-4eff-aeea-421430013772",
   "metadata": {},
   "outputs": [
    {
     "name": "stdout",
     "output_type": "stream",
     "text": [
      "3\n",
      "3\n",
      "5\n",
      "7\n"
     ]
    }
   ],
   "source": [
    "import math\n",
    "def primeFactors(n):\n",
    "\twhile n % 2 == 0:\n",
    "\t\tprint(2)\n",
    "\t\tn = n // 2\n",
    "\tfor i in range(3,int(math.sqrt(n))+1,2):\n",
    "\t\twhile n % i== 0:\n",
    "\t\t\tprint(i)\n",
    "\t\t\tn = n // i\n",
    "\tif n > 2:\n",
    "\t\tprint(n)\n",
    "n = 315\n",
    "primeFactors(n)"
   ]
  },
  {
   "cell_type": "code",
   "execution_count": 5,
   "id": "140920ad-506b-4e18-bb6b-977d1cc1027b",
   "metadata": {},
   "outputs": [
    {
     "name": "stdout",
     "output_type": "stream",
     "text": [
      "121\n",
      "141\n",
      "252\n",
      "\n",
      "Total palindrome nos. are 3\n",
      "\n",
      "111\n",
      "565\n",
      "787\n",
      "363\n",
      "\n",
      "Total palindrome nos. are 4\n",
      "\n"
     ]
    }
   ],
   "source": [
    "def palindromeNumbers(list_a):\n",
    "\tc = 0\n",
    "\tfor i in list_a:\n",
    "\t\tt = i\n",
    "\t\trev = 0\n",
    "\t\twhile t > 0:\n",
    "\t\t\trev = rev * 10 + t % 10\n",
    "\t\t\tt = t // 10\n",
    "\t\tif rev == i:\n",
    "\t\t\tprint(i)\n",
    "\t\t\tc = c + 1\n",
    "\tprint()\n",
    "\tprint(\"Total palindrome nos. are\", c)\n",
    "\tprint()\n",
    "def main():\n",
    "\tlist_a = [10, 121, 133, 155, 141, 252]\n",
    "\tpalindromeNumbers(list_a)\n",
    "\n",
    "\tlist_b = [111, 220, 784, 565, 498, 787, 363]\n",
    "\tpalindromeNumbers(list_b)\n",
    "if __name__ == \"__main__\":\n",
    "\tmain()"
   ]
  },
  {
   "cell_type": "code",
   "execution_count": 6,
   "id": "1d0433f9-2fed-4787-8ff8-e7b70c2638a0",
   "metadata": {},
   "outputs": [
    {
     "name": "stdout",
     "output_type": "stream",
     "text": [
      "The original list is : [345, 893, 1948, 34, 2346]\n",
      "Odd digit sum : 36\n",
      "Even digit sum : 40\n"
     ]
    }
   ],
   "source": [
    "test_list = [345, 893, 1948, 34, 2346]\n",
    "print(\"The original list is : \" + str(test_list))\n",
    "odd_sum = 0\n",
    "even_sum = 0\n",
    "for sub in test_list:\n",
    "\tfor ele in str(sub):\n",
    "\t\tif int(ele) % 2 == 0:\n",
    "\t\t\teven_sum += int(ele)\n",
    "\t\telse:\n",
    "\t\t\todd_sum += int(ele)\n",
    "print(\"Odd digit sum : \" + str(odd_sum))\n",
    "print(\"Even digit sum : \" + str(even_sum))"
   ]
  },
  {
   "cell_type": "code",
   "execution_count": 7,
   "id": "86673ba2-dd01-4d11-9100-539e7173a4f5",
   "metadata": {},
   "outputs": [
    {
     "name": "stdout",
     "output_type": "stream",
     "text": [
      "{1: 'python', 2: 'c', 3: 'c++'}\n"
     ]
    }
   ],
   "source": [
    "index = [1, 2, 3]\n",
    "languages = ['python', 'c', 'c++']\n",
    "\n",
    "dictionary = dict(zip(index, languages))\n",
    "print(dictionary)"
   ]
  },
  {
   "cell_type": "code",
   "execution_count": 8,
   "id": "f278fdd6-9a99-4441-968a-048f9eb2e8d9",
   "metadata": {},
   "outputs": [
    {
     "name": "stdout",
     "output_type": "stream",
     "text": [
      "The original list is : ['all', 'love', 'and', 'get', 'educated', 'by', 'gfg']\n",
      "The extracted words : ['all', 'and', 'educated']\n"
     ]
    }
   ],
   "source": [
    "test_list = [\"all\", \"love\", \"and\", \"get\", \"educated\", \"by\", \"gfg\"]\n",
    "print(\"The original list is : \" + str(test_list))\n",
    "\n",
    "res = []\n",
    "vow = \"aeiou\"\n",
    "for sub in test_list:\n",
    "\tflag = False\n",
    "\tfor ele in vow:\n",
    "\t\tif sub.startswith(ele):\n",
    "\t\t\tflag = True\n",
    "\t\t\tbreak\n",
    "\tif flag:\n",
    "\t\tres.append(sub)\n",
    "print(\"The extracted words : \" + str(res))"
   ]
  },
  {
   "cell_type": "code",
   "execution_count": 10,
   "id": "e553795d-4fef-4ace-8e67-413f66a4376e",
   "metadata": {},
   "outputs": [
    {
     "name": "stdout",
     "output_type": "stream",
     "text": [
      "['p', 'w', 'skills']\n"
     ]
    }
   ],
   "source": [
    "import re\n",
    "def remove(list):\n",
    "\tpattern = '[0-9]'\n",
    "\tlist = [re.sub(pattern, '', i) for i in list]\n",
    "\treturn list\n",
    "list = [\"p\",\"w\",\"skills\"]\n",
    "print(remove(list))"
   ]
  },
  {
   "cell_type": "code",
   "execution_count": 13,
   "id": "1fb43614-d9eb-433a-b212-d69f89000645",
   "metadata": {},
   "outputs": [
    {
     "name": "stdout",
     "output_type": "stream",
     "text": [
      "The original list is : [12, 67, 98, 34]\n",
      "List Integer Summation : [3, 13, 17, 7]\n"
     ]
    }
   ],
   "source": [
    "test_list = [12, 67, 98, 34]\n",
    "print(\"The original list is : \" + str(test_list))\n",
    "res = []\n",
    "for ele in test_list:\n",
    "\tsum = 0\n",
    "\tfor digit in str(ele):\n",
    "\t\tsum += int(digit)\n",
    "\tres.append(sum)\n",
    "print (\"List Integer Summation : \" + str(res))"
   ]
  },
  {
   "cell_type": "code",
   "execution_count": 16,
   "id": "58015c59-f9d5-456d-bed5-2ee1ddec3ca5",
   "metadata": {},
   "outputs": [
    {
     "name": "stdout",
     "output_type": "stream",
     "text": [
      "The original list is : ['p', 'w', 'Skills']\n",
      "Maximum vowels word : Skills\n"
     ]
    }
   ],
   "source": [
    "test_list = [\"p\",\"w\",\"Skills\"]\n",
    "print(\"The original list is : \" + str(test_list))\n",
    "res = \"\"\n",
    "max_len = 0\n",
    "for ele in test_list:\n",
    "\tvow_len = len([el for el in ele if el in ['a', 'e', 'o', 'u', 'i']])\n",
    "\t\n",
    "\tif vow_len > max_len:\n",
    "\t\tmax_len = vow_len\n",
    "\t\tres = ele\n",
    "print(\"Maximum vowels word : \" + str(res))"
   ]
  },
  {
   "cell_type": "code",
   "execution_count": 17,
   "id": "0064a160-8b50-45fe-8766-4f3419a96cfe",
   "metadata": {},
   "outputs": [
    {
     "name": "stdout",
     "output_type": "stream",
     "text": [
      "The original list is : [12, 67, 98, 34]\n",
      "List Integer Summation : [3, 13, 17, 7]\n"
     ]
    }
   ],
   "source": [
    "test_list = [12, 67, 98, 34]\n",
    "print(\"The original list is : \" + str(test_list))\n",
    "res = []\n",
    "for ele in test_list:\n",
    "\tsum = 0\n",
    "\tfor digit in str(ele):\n",
    "\t\tsum += int(digit)\n",
    "\tres.append(sum)\n",
    "print (\"List Integer Summation : \" + str(res))"
   ]
  },
  {
   "cell_type": "code",
   "execution_count": 18,
   "id": "71fe9512-41c4-4c89-822d-fdd9839066ac",
   "metadata": {},
   "outputs": [
    {
     "name": "stdout",
     "output_type": "stream",
     "text": [
      "121\n",
      "141\n",
      "252\n",
      "\n",
      "Total palindrome nos. are 3\n",
      "\n",
      "111\n",
      "565\n",
      "787\n",
      "363\n",
      "\n",
      "Total palindrome nos. are 4\n",
      "\n"
     ]
    }
   ],
   "source": [
    "def palindromeNumbers(list_a):\n",
    "\tc = 0\n",
    "\tfor i in list_a:\n",
    "\t\tt = i\n",
    "\t\trev = 0\n",
    "\t\twhile t > 0:\n",
    "\t\t\trev = rev * 10 + t % 10\n",
    "\t\t\tt = t // 10\n",
    "\t\tif rev == i:\n",
    "\t\t\tprint(i)\n",
    "\t\t\tc = c + 1\n",
    "\tprint()\n",
    "\tprint(\"Total palindrome nos. are\", c)\n",
    "\tprint()\n",
    "def main():\n",
    "\tlist_a = [10, 121, 133, 155, 141, 252]\n",
    "\tpalindromeNumbers(list_a)\n",
    "\tlist_b = [111, 220, 784, 565, 498, 787, 363]\n",
    "\tpalindromeNumbers(list_b)\n",
    "if __name__ == \"__main__\":\n",
    "\tmain()"
   ]
  },
  {
   "cell_type": "code",
   "execution_count": null,
   "id": "10475d92-fcd8-4879-b6ed-20e081e25b90",
   "metadata": {},
   "outputs": [],
   "source": []
  }
 ],
 "metadata": {
  "kernelspec": {
   "display_name": "Python 3 (ipykernel)",
   "language": "python",
   "name": "python3"
  },
  "language_info": {
   "codemirror_mode": {
    "name": "ipython",
    "version": 3
   },
   "file_extension": ".py",
   "mimetype": "text/x-python",
   "name": "python",
   "nbconvert_exporter": "python",
   "pygments_lexer": "ipython3",
   "version": "3.10.8"
  }
 },
 "nbformat": 4,
 "nbformat_minor": 5
}
